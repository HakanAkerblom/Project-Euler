{
 "cells": [
  {
   "cell_type": "markdown",
   "metadata": {},
   "source": [
    "# Summation of primes\n",
    "\n",
    "### Problem 10\n",
    "\n",
    "The sum of the primes below 10 is 2 + 3 + 5 + 7 = 17.\n",
    "\n",
    "Find the sum of all the primes below two million."
   ]
  },
  {
   "cell_type": "code",
   "execution_count": 3,
   "metadata": {},
   "outputs": [
    {
     "name": "stdout",
     "output_type": "stream",
     "text": [
      "[547]\n"
     ]
    }
   ],
   "source": [
    "# Första försöket, för långsamt\n",
    "\n",
    "\"\"\" sum = 0\n",
    "primtal = [2]\n",
    "i = 2\n",
    "\n",
    "while len(primtal) < 10000:\n",
    "    for j in primtal:\n",
    "        if i % j == 0:\n",
    "            break\n",
    "        elif j == max(primtal):\n",
    "            primtal.append(i)\n",
    "    i += 1\n",
    "\n",
    "print(primtal[-1:])\n",
    " \"\"\""
   ]
  },
  {
   "cell_type": "code",
   "execution_count": 11,
   "metadata": {},
   "outputs": [
    {
     "name": "stdout",
     "output_type": "stream",
     "text": [
      "[2, 3, 5, 7, 11, 13, 17, 19]\n",
      "77\n"
     ]
    }
   ],
   "source": [
    "# Andra försöket\n",
    "primtal = [2]\n",
    "summa = 2\n",
    "for i in range(3, 20):\n",
    "    for j in primtal:\n",
    "        if i % j == 0:\n",
    "            break\n",
    "        elif j == max(primtal):\n",
    "            primtal.append(i)\n",
    "            summa += i\n",
    "\n",
    "\n",
    "print(primtal)\n",
    "print(summa)\n",
    "\n"
   ]
  },
  {
   "cell_type": "code",
   "execution_count": 48,
   "metadata": {},
   "outputs": [
    {
     "name": "stdout",
     "output_type": "stream",
     "text": [
      "[2, 3, 4, 5, 6, 7, 8, 9, 10, 11, 12, 13, 14, 15, 16, 17, 18, 19]\n",
      "2 2\n",
      "[2, 3, 4, 5, 6, 7, 8, 9, 10, 11, 12, 13, 14, 15, 16, 17, 18, 19]\n",
      "2 3\n",
      "[2, 3, 4, 5, 6, 7, 8, 9, 10, 11, 12, 13, 14, 15, 16, 17, 18, 19]\n",
      "2 4\n",
      "[2, 3, 0, 5, 6, 7, 8, 9, 10, 11, 12, 13, 14, 15, 16, 17, 18, 19]\n",
      "2 5\n",
      "[2, 3, 0, 5, 6, 7, 8, 9, 10, 11, 12, 13, 14, 15, 16, 17, 18, 19]\n",
      "2 6\n",
      "[2, 3, 0, 5, 0, 7, 8, 9, 10, 11, 12, 13, 14, 15, 16, 17, 18, 19]\n",
      "2 7\n",
      "[2, 3, 0, 5, 0, 7, 8, 9, 10, 11, 12, 13, 14, 15, 16, 17, 18, 19]\n",
      "2 8\n",
      "[2, 3, 0, 5, 0, 7, 0, 9, 10, 11, 12, 13, 14, 15, 16, 17, 18, 19]\n",
      "2 9\n",
      "[2, 3, 0, 5, 0, 7, 0, 9, 10, 11, 12, 13, 14, 15, 16, 17, 18, 19]\n",
      "2 10\n",
      "[2, 3, 0, 5, 0, 7, 0, 9, 0, 11, 12, 13, 14, 15, 16, 17, 18, 19]\n",
      "2 11\n",
      "[2, 3, 0, 5, 0, 7, 0, 9, 0, 11, 12, 13, 14, 15, 16, 17, 18, 19]\n",
      "2 12\n",
      "[2, 3, 0, 5, 0, 7, 0, 9, 0, 11, 0, 13, 14, 15, 16, 17, 18, 19]\n",
      "2 13\n",
      "[2, 3, 0, 5, 0, 7, 0, 9, 0, 11, 0, 13, 14, 15, 16, 17, 18, 19]\n",
      "2 14\n",
      "[2, 3, 0, 5, 0, 7, 0, 9, 0, 11, 0, 13, 0, 15, 16, 17, 18, 19]\n",
      "2 15\n",
      "[2, 3, 0, 5, 0, 7, 0, 9, 0, 11, 0, 13, 0, 15, 16, 17, 18, 19]\n",
      "2 16\n",
      "[2, 3, 0, 5, 0, 7, 0, 9, 0, 11, 0, 13, 0, 15, 0, 17, 18, 19]\n",
      "2 17\n",
      "[2, 3, 0, 5, 0, 7, 0, 9, 0, 11, 0, 13, 0, 15, 0, 17, 18, 19]\n",
      "2 18\n",
      "[2, 3, 0, 5, 0, 7, 0, 9, 0, 11, 0, 13, 0, 15, 0, 17, 0, 19]\n",
      "2 19\n",
      "[2, 3, 5, 7, 9, 11, 13, 15, 17, 19]\n",
      "3 2\n",
      "[2, 3, 5, 7, 9, 11, 13, 15, 17, 19]\n",
      "3 3\n",
      "[2, 3, 5, 7, 9, 11, 13, 15, 17, 19]\n",
      "3 5\n",
      "[2, 3, 5, 7, 9, 11, 13, 15, 17, 19]\n",
      "3 7\n",
      "[2, 3, 5, 7, 9, 11, 13, 15, 17, 19]\n",
      "3 9\n",
      "[2, 3, 5, 7, 0, 11, 13, 15, 17, 19]\n",
      "3 11\n",
      "[2, 3, 5, 7, 0, 11, 13, 15, 17, 19]\n",
      "3 13\n",
      "[2, 3, 5, 7, 0, 11, 13, 15, 17, 19]\n",
      "3 15\n",
      "[2, 3, 5, 7, 0, 11, 13, 0, 17, 19]\n",
      "3 17\n",
      "[2, 3, 5, 7, 0, 11, 13, 0, 17, 19]\n",
      "3 19\n",
      "[2, 3, 5, 7, 11, 13, 17, 19]\n",
      "0 2\n"
     ]
    },
    {
     "ename": "ZeroDivisionError",
     "evalue": "integer division or modulo by zero",
     "output_type": "error",
     "traceback": [
      "\u001b[1;31m---------------------------------------------------------------------------\u001b[0m",
      "\u001b[1;31mZeroDivisionError\u001b[0m                         Traceback (most recent call last)",
      "\u001b[1;32mc:\\Users\\hakan\\OneDrive\\Documents\\Github\\Project-Euler\\010. Summation of primes.ipynb Cell 4\u001b[0m in \u001b[0;36m<cell line: 8>\u001b[1;34m()\u001b[0m\n\u001b[0;32m     <a href='vscode-notebook-cell:/c%3A/Users/hakan/OneDrive/Documents/Github/Project-Euler/010.%20Summation%20of%20primes.ipynb#W3sZmlsZQ%3D%3D?line=13'>14</a>\u001b[0m     \u001b[39mif\u001b[39;00m delare \u001b[39m==\u001b[39m primtal:\n\u001b[0;32m     <a href='vscode-notebook-cell:/c%3A/Users/hakan/OneDrive/Documents/Github/Project-Euler/010.%20Summation%20of%20primes.ipynb#W3sZmlsZQ%3D%3D?line=14'>15</a>\u001b[0m         \u001b[39mcontinue\u001b[39;00m\n\u001b[1;32m---> <a href='vscode-notebook-cell:/c%3A/Users/hakan/OneDrive/Documents/Github/Project-Euler/010.%20Summation%20of%20primes.ipynb#W3sZmlsZQ%3D%3D?line=15'>16</a>\u001b[0m     \u001b[39melif\u001b[39;00m delare \u001b[39m%\u001b[39;49m primtal \u001b[39m==\u001b[39m \u001b[39m0\u001b[39m:\n\u001b[0;32m     <a href='vscode-notebook-cell:/c%3A/Users/hakan/OneDrive/Documents/Github/Project-Euler/010.%20Summation%20of%20primes.ipynb#W3sZmlsZQ%3D%3D?line=16'>17</a>\u001b[0m         lista[count\u001b[39m-\u001b[39m\u001b[39m1\u001b[39m] \u001b[39m=\u001b[39m \u001b[39m0\u001b[39m\n\u001b[0;32m     <a href='vscode-notebook-cell:/c%3A/Users/hakan/OneDrive/Documents/Github/Project-Euler/010.%20Summation%20of%20primes.ipynb#W3sZmlsZQ%3D%3D?line=17'>18</a>\u001b[0m lista \u001b[39m=\u001b[39m [k \u001b[39mfor\u001b[39;00m k \u001b[39min\u001b[39;00m lista \u001b[39mif\u001b[39;00m k \u001b[39m!=\u001b[39m \u001b[39m0\u001b[39m]\n",
      "\u001b[1;31mZeroDivisionError\u001b[0m: integer division or modulo by zero"
     ]
    }
   ],
   "source": [
    "# Tredje försöket, Eratoshtenes såll\n",
    "\n",
    "import math\n",
    "maximum = 20\n",
    "testmax = int(math.sqrt(maximum))\n",
    "lista = [a for a in range(2, maximum)]\n",
    "\n",
    "for primtal in lista:\n",
    "    count = 0\n",
    "    for delare in lista:\n",
    "        print(lista)\n",
    "        count += 1\n",
    "        print(primtal, delare)\n",
    "        if delare == primtal:\n",
    "            continue\n",
    "        elif delare % primtal == 0:\n",
    "            lista[count-1] = 0\n",
    "    lista = [k for k in lista if k != 0]\n",
    "print(lista)"
   ]
  },
  {
   "cell_type": "code",
   "execution_count": 38,
   "metadata": {},
   "outputs": [
    {
     "name": "stdout",
     "output_type": "stream",
     "text": [
      "[0, 1, 2, 3, 4, 5, 6, 7, 8, 9]\n",
      "0\n",
      "2\n",
      "4\n",
      "[1, 2, 4, 5, 7, 8, 9]\n"
     ]
    }
   ],
   "source": [
    "# test för att förstå hur det fungerar att loopa över listor när det tas bort element ur listor.\n",
    "lista = [i for i in range(10)]\n",
    "print(lista)\n",
    "\n",
    "for i in lista:\n",
    "    if len(lista) <= 7:\n",
    "        break\n",
    "    lista.pop(i)\n",
    "    print(i)\n",
    "\n",
    "print(lista)"
   ]
  },
  {
   "cell_type": "code",
   "execution_count": null,
   "metadata": {},
   "outputs": [],
   "source": [
    "# nytt försök med Eratooshtenes såll\n",
    "\n",
    "import math\n",
    "lista = [i for i in range(2, 200)]\n",
    "testmax = int(math.sqrt(len(lista)))\n",
    "i = 0\n",
    "\n",
    "for delare in range(testmax):\n",
    "    if delare == lista[i]:\n",
    "        continue\n",
    "    elif delare % lista[i] == 0:\n",
    "        lista[i] = 0\n"
   ]
  },
  {
   "cell_type": "code",
   "execution_count": 69,
   "metadata": {},
   "outputs": [
    {
     "name": "stdout",
     "output_type": "stream",
     "text": [
      "142913828922\n"
     ]
    }
   ],
   "source": [
    "# Fullösning när jag vet att det största primtalet jag behöver testa är 1414\n",
    "\n",
    "primtal = [2]\n",
    "for i in range(3, 1414):\n",
    "    for d in range(2, i+1):\n",
    "        if d == i:\n",
    "            primtal.append(i)\n",
    "        elif i % d == 0:\n",
    "            break\n",
    "\n",
    "lista = [i for i in range(2, 2000000)]\n",
    "count = 0\n",
    "for j in lista:\n",
    "    for k in primtal:\n",
    "        if j == k:\n",
    "            break\n",
    "        elif j % k == 0:\n",
    "            lista[count] = 0\n",
    "            break\n",
    "    count += 1\n",
    "lista = [i for i in lista if i != 0]\n",
    "# print(lista)\n",
    "summa = 0\n",
    "for i in lista:\n",
    "    summa += i\n",
    "print(summa)\n",
    "\n"
   ]
  },
  {
   "cell_type": "code",
   "execution_count": null,
   "metadata": {},
   "outputs": [],
   "source": []
  }
 ],
 "metadata": {
  "kernelspec": {
   "display_name": "Python 3.9.13 ('Python-Hakan-Akerblom-fWPs1u-F')",
   "language": "python",
   "name": "python3"
  },
  "language_info": {
   "codemirror_mode": {
    "name": "ipython",
    "version": 3
   },
   "file_extension": ".py",
   "mimetype": "text/x-python",
   "name": "python",
   "nbconvert_exporter": "python",
   "pygments_lexer": "ipython3",
   "version": "3.9.13"
  },
  "orig_nbformat": 4,
  "vscode": {
   "interpreter": {
    "hash": "9b8982fe4dee5ea216abe18f309efc76049b2ef374ce38cf34875b7e1b48bd42"
   }
  }
 },
 "nbformat": 4,
 "nbformat_minor": 2
}
