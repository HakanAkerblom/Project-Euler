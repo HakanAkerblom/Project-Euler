{
 "cells": [
  {
   "cell_type": "markdown",
   "metadata": {},
   "source": [
    "# Maximum path sum I\n",
    "### Problem 18\n",
    "\n",
    "<p>By starting at the top of the triangle below and moving to adjacent numbers on the row below, the maximum total from top to bottom is 23.</p>\n",
    "<p class=\"monospace center\"><span class=\"red\"><b>3</b></span><br /><span class=\"red\"><b>7</b></span> 4<br />\n",
    "2 <span class=\"red\"><b>4</b></span> 6<br />\n",
    "8 5 <span class=\"red\"><b>9</b></span> 3</p>\n",
    "<p>That is, 3 + 7 + 4 + 9 = 23.</p>\n",
    "<p>Find the maximum total from top to bottom of the triangle below:</p>\n",
    "<p class=\"monospace center\">75<br />\n",
    "95 64<br />\n",
    "17 47 82<br />\n",
    "18 35 87 10<br />\n",
    "20 04 82 47 65<br />\n",
    "19 01 23 75 03 34<br />\n",
    "88 02 77 73 07 63 67<br />\n",
    "99 65 04 28 06 16 70 92<br />\n",
    "41 41 26 56 83 40 80 70 33<br />\n",
    "41 48 72 33 47 32 37 16 94 29<br />\n",
    "53 71 44 65 25 43 91 52 97 51 14<br />\n",
    "70 11 33 28 77 73 17 78 39 68 17 57<br />\n",
    "91 71 52 38 17 14 91 43 58 50 27 29 48<br />\n",
    "63 66 04 68 89 53 67 30 73 16 69 87 40 31<br />\n",
    "04 62 98 27 23 09 70 98 73 93 38 53 60 04 23</p>\n",
    "<p class=\"note\"><b>NOTE:</b> As there are only 16384 routes, it is possible to solve this problem by trying every route. However, <a href=\"problem=67\">Problem 67</a>, is the same challenge with a triangle containing one-hundred rows; it cannot be solved by brute force, and requires a clever method! ;o)</p>"
   ]
  },
  {
   "cell_type": "code",
   "execution_count": 26,
   "metadata": {},
   "outputs": [
    {
     "name": "stdout",
     "output_type": "stream",
     "text": [
      "794\n",
      "0b0\n",
      "0b1\n",
      "0b10\n",
      "0b11\n",
      "0b100\n",
      "0b101\n",
      "0b110\n",
      "0b111\n",
      "0b1000\n",
      "0b1001\n",
      "1010\n"
     ]
    }
   ],
   "source": [
    "triangle = \"\"\"75\n",
    "95 64\n",
    "17 47 82\n",
    "18 35 87 10\n",
    "20 04 82 47 65\n",
    "19 01 23 75 03 34\n",
    "88 02 77 73 07 63 67\n",
    "99 65 04 28 06 16 70 92\n",
    "41 41 26 56 83 40 80 70 33\n",
    "41 48 72 33 47 32 37 16 94 29\n",
    "53 71 44 65 25 43 91 52 97 51 14\n",
    "70 11 33 28 77 73 17 78 39 68 17 57\n",
    "91 71 52 38 17 14 91 43 58 50 27 29 48\n",
    "63 66 04 68 89 53 67 30 73 16 69 87 40 31\n",
    "04 62 98 27 23 09 70 98 73 93 38 53 60 04 23\"\"\"\n",
    "trig_split = triangle.split(\"\\n\")\n",
    "\n",
    "trig_split2 = []\n",
    "for i in trig_split:\n",
    "    trig_split2.append(i.split(\" \"))\n",
    "\n",
    "trig_ints = []\n",
    "for i in trig_split2:\n",
    "    b =[]\n",
    "    for j in i:\n",
    "        b.append(int(j))\n",
    "    trig_ints.append(b)\n",
    "reverse_trig = trig_ints[:]\n",
    "reverse_trig.reverse()\n",
    "allsum =[]\n",
    "for i in range(16384):\n",
    "    bin = bin(i)\n",
    "\n",
    "\n",
    "    sum = 0\n",
    "    for i in trig_ints:\n",
    "        sum += i[0]\n",
    "    print(sum)\n",
    "\n",
    "\n",
    "x = 1\n",
    "for i in range(10):\n",
    "    print(str(bin(i)))\n",
    "print(str(bin(10))[2:])\n"
   ]
  },
  {
   "cell_type": "code",
   "execution_count": null,
   "metadata": {},
   "outputs": [],
   "source": []
  }
 ],
 "metadata": {
  "kernelspec": {
   "display_name": "Python 3.9.7 ('Python-Hakan-Akerblom-YzR5GEpF')",
   "language": "python",
   "name": "python3"
  },
  "language_info": {
   "codemirror_mode": {
    "name": "ipython",
    "version": 3
   },
   "file_extension": ".py",
   "mimetype": "text/x-python",
   "name": "python",
   "nbconvert_exporter": "python",
   "pygments_lexer": "ipython3",
   "version": "3.9.7"
  },
  "orig_nbformat": 4,
  "vscode": {
   "interpreter": {
    "hash": "50c489c8ac99e50e31e555338e9585cdc55ef013013d6a283364937a133ea910"
   }
  }
 },
 "nbformat": 4,
 "nbformat_minor": 2
}
