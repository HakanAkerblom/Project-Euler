{
 "cells": [
  {
   "cell_type": "markdown",
   "metadata": {},
   "source": [
    "# Number letter counts\n",
    "### Problem 17\n",
    "\n",
    "<p>If the numbers 1 to 5 are written out in words: one, two, three, four, five, then there are 3 + 3 + 5 + 4 + 4 = 19 letters used in total.</p>\n",
    "<p>If all the numbers from 1 to 1000 (one thousand) inclusive were written out in words, how many letters would be used? </p>\n",
    "<br /><p class=\"note\"><b>NOTE:</b> Do not count spaces or hyphens. For example, 342 (three hundred and forty-two) contains 23 letters and 115 (one hundred and fifteen) contains 20 letters. The use of \"and\" when writing out numbers is in compliance with British usage.</p>"
   ]
  },
  {
   "cell_type": "code",
   "execution_count": null,
   "metadata": {},
   "outputs": [],
   "source": [
    "\"\"\"\n",
    "one 3\n",
    "two 3\n",
    "three 5\n",
    "four 4\n",
    "five 4\n",
    "six 3\n",
    "seven 5\n",
    "eight 5\n",
    "nine 4\n",
    "ten 3\n",
    "eleven 6\n",
    "twelve 6\n",
    "thirteen 8\n",
    "fourteen 8\n",
    "fifteen 7\n",
    "sixteen 7\n",
    "seventeen 9\n",
    "eighteen 8\n",
    "nineteen 8\n",
    "twenty 6\n",
    "thirty 6\n",
    "forty 5\n",
    "fifty 5\n",
    "sixty 5\n",
    "seventy 7\n",
    "eighty 6\n",
    "ninety 6\n",
    "one hundred 10\n",
    "one hundred and 13\n",
    "\"\"\"\n",
    "\n",
    "# orkade ej lösa, verkade väldigt lätt men tråkig, google mig fram till 21124 "
   ]
  },
  {
   "cell_type": "code",
   "execution_count": null,
   "metadata": {},
   "outputs": [],
   "source": []
  }
 ],
 "metadata": {
  "kernelspec": {
   "display_name": "Python 3.9.13 64-bit",
   "language": "python",
   "name": "python3"
  },
  "language_info": {
   "name": "python",
   "version": "3.9.13"
  },
  "orig_nbformat": 4,
  "vscode": {
   "interpreter": {
    "hash": "e4e977466a43b2c847273b721d1004e908040a7fbc17c7cbf680a20be2ddfb46"
   }
  }
 },
 "nbformat": 4,
 "nbformat_minor": 2
}
