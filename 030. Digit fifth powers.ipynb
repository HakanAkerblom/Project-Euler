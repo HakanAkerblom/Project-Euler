{
 "cells": [
  {
   "cell_type": "markdown",
   "metadata": {},
   "source": []
  },
  {
   "cell_type": "markdown",
   "metadata": {},
   "source": [
    "# Digit fifth powers\n",
    "### Problem 30\n",
    "\n",
    "<p>Surprisingly there are only three numbers that can be written as the sum of fourth powers of their digits:\n",
    "\\begin{align}\n",
    "1634 &amp;= 1^4 + 6^4 + 3^4 + 4^4\\\\\n",
    "8208 &amp;= 8^4 + 2^4 + 0^4 + 8^4\\\\\n",
    "9474 &amp;= 9^4 + 4^4 + 7^4 + 4^4\n",
    "\\end{align}\n",
    "</p><p class=\"smaller\">As $1 = 1^4$ is not a sum it is not included.</p>\n",
    "<p>The sum of these numbers is $1634 + 8208 + 9474 = 19316$.</p>\n",
    "<p>Find the sum of all the numbers that can be written as the sum of fifth powers of their digits.</p>\n"
   ]
  },
  {
   "cell_type": "code",
   "execution_count": 6,
   "metadata": {},
   "outputs": [
    {
     "name": "stdout",
     "output_type": "stream",
     "text": [
      "[1, 4150, 4151, 54748, 92727, 93084, 194979]\n"
     ]
    },
    {
     "data": {
      "text/plain": [
       "443839"
      ]
     },
     "execution_count": 6,
     "metadata": {},
     "output_type": "execute_result"
    }
   ],
   "source": [
    "answers = []\n",
    "total_sum = 0\n",
    "for i in range(1, 1000000):\n",
    "    list_of_numbers = [int(digit) for digit in str(i)]\n",
    "    sum_of_fourth_powers = sum([x ** 5 for x in list_of_numbers])\n",
    "    if sum_of_fourth_powers == i:\n",
    "        answers.append(i)\n",
    "\n",
    "print(answers)\n",
    "for answer in answers:\n",
    "    total_sum += answer\n",
    "\n",
    "total_sum -1\n",
    "\n"
   ]
  }
 ],
 "metadata": {
  "kernelspec": {
   "display_name": "Project-Euler-LP3mX_Ov",
   "language": "python",
   "name": "python3"
  },
  "language_info": {
   "codemirror_mode": {
    "name": "ipython",
    "version": 3
   },
   "file_extension": ".py",
   "mimetype": "text/x-python",
   "name": "python",
   "nbconvert_exporter": "python",
   "pygments_lexer": "ipython3",
   "version": "3.9.13"
  },
  "orig_nbformat": 4
 },
 "nbformat": 4,
 "nbformat_minor": 2
}
