{
 "cells": [
  {
   "cell_type": "markdown",
   "metadata": {},
   "source": [
    "# Longest Collatz sequence\n",
    "\n",
    "### Problem 14\n",
    "\n",
    "The following iterative sequence is defined for the set of positive integers:\n",
    "\n",
    "n → n/2 (n is even)\n",
    "n → 3n + 1 (n is odd)\n",
    "\n",
    "Using the rule above and starting with 13, we generate the following sequence:\n",
    "\n",
    "13 → 40 → 20 → 10 → 5 → 16 → 8 → 4 → 2 → 1\n",
    "It can be seen that this sequence (starting at 13 and finishing at 1) contains 10 terms. Although it has not been proved yet (Collatz Problem), it is thought that all starting numbers finish at 1.\n",
    "\n",
    "Which starting number, under one million, produces the longest chain?\n",
    "\n",
    "NOTE: Once the chain starts the terms are allowed to go above one million."
   ]
  },
  {
   "cell_type": "code",
   "execution_count": 21,
   "metadata": {},
   "outputs": [
    {
     "name": "stdout",
     "output_type": "stream",
     "text": [
      "2 -> 1\n",
      "---\n",
      "3 -> 10 -> 5 -> 16 -> 8 -> 4 -> 2 -> 1\n",
      "---\n",
      "4 -> 2 -> 1\n",
      "---\n",
      "5 -> 16 -> 8 -> 4 -> 2 -> 1\n",
      "---\n"
     ]
    }
   ],
   "source": [
    "n = 1\n",
    "for n in range(2, 6):\n",
    "    print(f\"{n} ->\", end=\" \")\n",
    "    while n != 1:\n",
    "        if n % 2 == 0:\n",
    "            n = int(n/2)\n",
    "        else:\n",
    "            n = 3*n+1\n",
    "        if n == 1:\n",
    "            print(\"1\")\n",
    "            break\n",
    "        print(n, end = \" -> \")\n",
    "    print(\"---\")"
   ]
  },
  {
   "cell_type": "code",
   "execution_count": null,
   "metadata": {},
   "outputs": [],
   "source": [
    "# Calulating stopping time\n",
    "\n",
    "import matplotlib.pyplot as plt\n",
    "maximum = 1000000\n",
    "count_list = []\n",
    "for j in range(1, maximum):\n",
    "    count = 0\n",
    "    i = j\n",
    "    while True:\n",
    "        if i % 2 == 0:\n",
    "            i = int(i/2)\n",
    "            count += 1\n",
    "        elif i == 1:\n",
    "            count += 1\n",
    "            break\n",
    "        else:\n",
    "            i = i*3+1\n",
    "            count += 1\n",
    "    count_list.append(count)\n",
    "plt.plot(range(1, maximum), count_list, \"o\")\n",
    "plt.title(\"Stopping time for Collatz Conjecture\")\n",
    "plt.xlabel(\"Starting value\")\n",
    "plt.ylabel(\"Number of iterations\");\n",
    "\n",
    "print(count_list.index(max(count_list)))\n",
    "\n",
    "# Denna fungerade men tog lång tid (28 sec)"
   ]
  },
  {
   "cell_type": "code",
   "execution_count": null,
   "metadata": {},
   "outputs": [],
   "source": [
    "# Prova annan idé att skapa en lista som alla element som listats tas bort ifrån.\n",
    "\n"
   ]
  }
 ],
 "metadata": {
  "kernelspec": {
   "display_name": "Python 3.9.13 ('Python-Hakan-Akerblom-fWPs1u-F')",
   "language": "python",
   "name": "python3"
  },
  "language_info": {
   "codemirror_mode": {
    "name": "ipython",
    "version": 3
   },
   "file_extension": ".py",
   "mimetype": "text/x-python",
   "name": "python",
   "nbconvert_exporter": "python",
   "pygments_lexer": "ipython3",
   "version": "3.9.13"
  },
  "orig_nbformat": 4,
  "vscode": {
   "interpreter": {
    "hash": "9b8982fe4dee5ea216abe18f309efc76049b2ef374ce38cf34875b7e1b48bd42"
   }
  }
 },
 "nbformat": 4,
 "nbformat_minor": 2
}
