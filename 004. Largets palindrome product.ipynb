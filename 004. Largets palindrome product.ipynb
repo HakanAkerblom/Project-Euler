{
 "cells": [
  {
   "cell_type": "markdown",
   "metadata": {},
   "source": [
    "# Largets palindrome product\n",
    "\n",
    "### Problem 4\n",
    "\n",
    "A palindromic number reads the same both ways. The largest palindrome made from the product of two 2-digit numbers is 9009 = 91 × 99.\n",
    "\n",
    "Find the largest palindrome made from the product of two 3-digit numbers."
   ]
  },
  {
   "cell_type": "code",
   "execution_count": 146,
   "metadata": {},
   "outputs": [
    {
     "name": "stdout",
     "output_type": "stream",
     "text": [
      "i=913\n",
      "tal2=993.0\n",
      "---\n"
     ]
    }
   ],
   "source": [
    "tal1 = 999999\n",
    "\n",
    "while tal1 > 900000:\n",
    "    i = 100\n",
    "    string1 = str(tal1)\n",
    "    l = len(string1)//2\n",
    "    a = string1[0:l]\n",
    "    b = string1[l:]\n",
    "    b = b[::-1]\n",
    "    if a == b:\n",
    "        while i < tal1:\n",
    "            tal2 = tal1/i\n",
    "            if tal2 % 1 == 0 and len(str(int(tal2))) == 3 and len(str(int(i))) == 3:\n",
    "                print(f\"{i=}\")\n",
    "                print(f\"{tal2=}\")\n",
    "                print(\"---\")\n",
    "                break\n",
    "            else:\n",
    "                i += 1\n",
    "    else:\n",
    "        tal1 -= 1\n",
    "        continue\n",
    "    tal1 -= 1            "
   ]
  }
 ],
 "metadata": {
  "kernelspec": {
   "display_name": "Python 3.9.13 ('Python-Hakan-Akerblom-fWPs1u-F')",
   "language": "python",
   "name": "python3"
  },
  "language_info": {
   "codemirror_mode": {
    "name": "ipython",
    "version": 3
   },
   "file_extension": ".py",
   "mimetype": "text/x-python",
   "name": "python",
   "nbconvert_exporter": "python",
   "pygments_lexer": "ipython3",
   "version": "3.9.13"
  },
  "orig_nbformat": 4,
  "vscode": {
   "interpreter": {
    "hash": "9b8982fe4dee5ea216abe18f309efc76049b2ef374ce38cf34875b7e1b48bd42"
   }
  }
 },
 "nbformat": 4,
 "nbformat_minor": 2
}
