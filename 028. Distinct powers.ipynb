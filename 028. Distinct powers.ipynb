{
 "cells": [
  {
   "cell_type": "code",
   "execution_count": 12,
   "metadata": {},
   "outputs": [],
   "source": [
    "import itertools\n",
    "combinations = []\n",
    "\n",
    "for kombo in itertools.product(range(2, 6), repeat=2):\n",
    "    combinations.append(kombo)\n",
    "\n",
    "for pair in combinations:\n",
    "    "
   ]
  },
  {
   "cell_type": "code",
   "execution_count": null,
   "metadata": {},
   "outputs": [],
   "source": [
    "from scipy import stats\n"
   ]
  }
 ],
 "metadata": {
  "kernelspec": {
   "display_name": "Project-Euler-LP3mX_Ov",
   "language": "python",
   "name": "python3"
  },
  "language_info": {
   "codemirror_mode": {
    "name": "ipython",
    "version": 3
   },
   "file_extension": ".py",
   "mimetype": "text/x-python",
   "name": "python",
   "nbconvert_exporter": "python",
   "pygments_lexer": "ipython3",
   "version": "3.9.13"
  },
  "orig_nbformat": 4,
  "vscode": {
   "interpreter": {
    "hash": "5bde43225c1208913c06d76e5164eaa6c35a71254460d6c422ab908208e2d6c9"
   }
  }
 },
 "nbformat": 4,
 "nbformat_minor": 2
}
