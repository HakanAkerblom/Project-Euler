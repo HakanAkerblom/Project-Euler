{
 "cells": [
  {
   "cell_type": "markdown",
   "metadata": {},
   "source": [
    "# Lexicographic permutations\n",
    "\n",
    "### Problem 24\n",
    "\n",
    "A permutation is an ordered arrangement of objects. For example, 3124 is one possible permutation of the digits 1, 2, 3 and 4. If all of the permutations are listed numerically or alphabetically, we call it lexicographic order. The lexicographic permutations of 0, 1 and 2 are:\n",
    "\n",
    "012   021   102   120   201   210\n",
    "\n",
    "What is the millionth lexicographic permutation of the digits 0, 1, 2, 3, 4, 5, 6, 7, 8 and 9?"
   ]
  },
  {
   "cell_type": "markdown",
   "metadata": {},
   "source": [
    "# notes\n",
    "combinations for different numbers\n",
    "\n",
    "1 -> 1\n",
    "2 -> 2\n",
    "3 -> 6\n",
    "4 -> 24\n",
    "\n",
    "numbers of combinations = n!"
   ]
  },
  {
   "cell_type": "code",
   "execution_count": 41,
   "metadata": {},
   "outputs": [
    {
     "name": "stdout",
     "output_type": "stream",
     "text": [
      "32.6 µs ± 1.15 µs per loop (mean ± std. dev. of 7 runs, 10,000 loops each)\n"
     ]
    }
   ],
   "source": [
    "import math\n",
    "\n",
    "target = 999999\n",
    "permutations = []\n",
    "\n",
    "while target > 0:\n",
    "    for n in range(10):\n",
    "        if math.factorial(n+1)>target:\n",
    "            permutations.append(n)\n",
    "            target -= math.factorial(n)\n",
    "            break\n",
    "\n",
    "digits = [0, 1, 2, 3, 4, 5, 6, 7, 8, 9]\n",
    "answer = []\n",
    "for i in range(9, -1, -1):\n",
    "    x = permutations.count(i)\n",
    "    answer.append(digits[x])\n",
    "    digits.pop(x)\n",
    "    \n",
    "answer_string = \"\"\n",
    "for digit in answer:\n",
    "    answer_string += str(digit)\n",
    "print(int(answer_string))\n",
    "\n",
    "\n",
    "\n"
   ]
  },
  {
   "cell_type": "code",
   "execution_count": 37,
   "metadata": {},
   "outputs": [
    {
     "name": "stdout",
     "output_type": "stream",
     "text": [
      "(2, 7, 8, 3, 9, 1, 5, 4, 6, 0)\n",
      "(2, 7, 8, 3, 9, 1, 5, 4, 6, 0)\n",
      "(2, 7, 8, 3, 9, 1, 5, 4, 6, 0)\n",
      "(2, 7, 8, 3, 9, 1, 5, 4, 6, 0)\n",
      "(2, 7, 8, 3, 9, 1, 5, 4, 6, 0)\n",
      "(2, 7, 8, 3, 9, 1, 5, 4, 6, 0)\n",
      "(2, 7, 8, 3, 9, 1, 5, 4, 6, 0)\n",
      "(2, 7, 8, 3, 9, 1, 5, 4, 6, 0)\n",
      "(2, 7, 8, 3, 9, 1, 5, 4, 6, 0)\n",
      "(2, 7, 8, 3, 9, 1, 5, 4, 6, 0)\n",
      "(2, 7, 8, 3, 9, 1, 5, 4, 6, 0)\n",
      "(2, 7, 8, 3, 9, 1, 5, 4, 6, 0)\n",
      "(2, 7, 8, 3, 9, 1, 5, 4, 6, 0)\n",
      "(2, 7, 8, 3, 9, 1, 5, 4, 6, 0)\n",
      "(2, 7, 8, 3, 9, 1, 5, 4, 6, 0)\n",
      "(2, 7, 8, 3, 9, 1, 5, 4, 6, 0)\n",
      "(2, 7, 8, 3, 9, 1, 5, 4, 6, 0)\n",
      "(2, 7, 8, 3, 9, 1, 5, 4, 6, 0)\n",
      "(2, 7, 8, 3, 9, 1, 5, 4, 6, 0)\n",
      "(2, 7, 8, 3, 9, 1, 5, 4, 6, 0)\n",
      "(2, 7, 8, 3, 9, 1, 5, 4, 6, 0)\n",
      "(2, 7, 8, 3, 9, 1, 5, 4, 6, 0)\n",
      "(2, 7, 8, 3, 9, 1, 5, 4, 6, 0)\n",
      "(2, 7, 8, 3, 9, 1, 5, 4, 6, 0)\n",
      "(2, 7, 8, 3, 9, 1, 5, 4, 6, 0)\n",
      "(2, 7, 8, 3, 9, 1, 5, 4, 6, 0)\n",
      "(2, 7, 8, 3, 9, 1, 5, 4, 6, 0)\n",
      "(2, 7, 8, 3, 9, 1, 5, 4, 6, 0)\n",
      "(2, 7, 8, 3, 9, 1, 5, 4, 6, 0)\n",
      "(2, 7, 8, 3, 9, 1, 5, 4, 6, 0)\n",
      "(2, 7, 8, 3, 9, 1, 5, 4, 6, 0)\n",
      "(2, 7, 8, 3, 9, 1, 5, 4, 6, 0)\n",
      "(2, 7, 8, 3, 9, 1, 5, 4, 6, 0)\n",
      "(2, 7, 8, 3, 9, 1, 5, 4, 6, 0)\n",
      "(2, 7, 8, 3, 9, 1, 5, 4, 6, 0)\n",
      "(2, 7, 8, 3, 9, 1, 5, 4, 6, 0)\n",
      "(2, 7, 8, 3, 9, 1, 5, 4, 6, 0)\n",
      "(2, 7, 8, 3, 9, 1, 5, 4, 6, 0)\n",
      "(2, 7, 8, 3, 9, 1, 5, 4, 6, 0)\n",
      "(2, 7, 8, 3, 9, 1, 5, 4, 6, 0)\n",
      "(2, 7, 8, 3, 9, 1, 5, 4, 6, 0)\n",
      "(2, 7, 8, 3, 9, 1, 5, 4, 6, 0)\n",
      "(2, 7, 8, 3, 9, 1, 5, 4, 6, 0)\n",
      "(2, 7, 8, 3, 9, 1, 5, 4, 6, 0)\n",
      "(2, 7, 8, 3, 9, 1, 5, 4, 6, 0)\n",
      "(2, 7, 8, 3, 9, 1, 5, 4, 6, 0)\n",
      "(2, 7, 8, 3, 9, 1, 5, 4, 6, 0)\n",
      "(2, 7, 8, 3, 9, 1, 5, 4, 6, 0)\n",
      "(2, 7, 8, 3, 9, 1, 5, 4, 6, 0)\n",
      "(2, 7, 8, 3, 9, 1, 5, 4, 6, 0)\n",
      "(2, 7, 8, 3, 9, 1, 5, 4, 6, 0)\n",
      "(2, 7, 8, 3, 9, 1, 5, 4, 6, 0)\n",
      "(2, 7, 8, 3, 9, 1, 5, 4, 6, 0)\n",
      "(2, 7, 8, 3, 9, 1, 5, 4, 6, 0)\n",
      "(2, 7, 8, 3, 9, 1, 5, 4, 6, 0)\n",
      "(2, 7, 8, 3, 9, 1, 5, 4, 6, 0)\n",
      "(2, 7, 8, 3, 9, 1, 5, 4, 6, 0)\n",
      "(2, 7, 8, 3, 9, 1, 5, 4, 6, 0)\n",
      "(2, 7, 8, 3, 9, 1, 5, 4, 6, 0)\n",
      "(2, 7, 8, 3, 9, 1, 5, 4, 6, 0)\n",
      "(2, 7, 8, 3, 9, 1, 5, 4, 6, 0)\n",
      "(2, 7, 8, 3, 9, 1, 5, 4, 6, 0)\n",
      "(2, 7, 8, 3, 9, 1, 5, 4, 6, 0)\n",
      "(2, 7, 8, 3, 9, 1, 5, 4, 6, 0)\n",
      "(2, 7, 8, 3, 9, 1, 5, 4, 6, 0)\n",
      "(2, 7, 8, 3, 9, 1, 5, 4, 6, 0)\n",
      "(2, 7, 8, 3, 9, 1, 5, 4, 6, 0)\n",
      "(2, 7, 8, 3, 9, 1, 5, 4, 6, 0)\n",
      "(2, 7, 8, 3, 9, 1, 5, 4, 6, 0)\n",
      "(2, 7, 8, 3, 9, 1, 5, 4, 6, 0)\n",
      "(2, 7, 8, 3, 9, 1, 5, 4, 6, 0)\n",
      "(2, 7, 8, 3, 9, 1, 5, 4, 6, 0)\n",
      "(2, 7, 8, 3, 9, 1, 5, 4, 6, 0)\n",
      "(2, 7, 8, 3, 9, 1, 5, 4, 6, 0)\n",
      "(2, 7, 8, 3, 9, 1, 5, 4, 6, 0)\n",
      "(2, 7, 8, 3, 9, 1, 5, 4, 6, 0)\n",
      "(2, 7, 8, 3, 9, 1, 5, 4, 6, 0)\n",
      "(2, 7, 8, 3, 9, 1, 5, 4, 6, 0)\n",
      "(2, 7, 8, 3, 9, 1, 5, 4, 6, 0)\n",
      "(2, 7, 8, 3, 9, 1, 5, 4, 6, 0)\n",
      "(2, 7, 8, 3, 9, 1, 5, 4, 6, 0)\n",
      "100 ms ± 551 µs per loop (mean ± std. dev. of 7 runs, 10 loops each)\n"
     ]
    }
   ],
   "source": []
  }
 ],
 "metadata": {
  "kernelspec": {
   "display_name": "Python 3.10.6 ('.venv': pipenv)",
   "language": "python",
   "name": "python3"
  },
  "language_info": {
   "codemirror_mode": {
    "name": "ipython",
    "version": 3
   },
   "file_extension": ".py",
   "mimetype": "text/x-python",
   "name": "python",
   "nbconvert_exporter": "python",
   "pygments_lexer": "ipython3",
   "version": "3.10.6"
  },
  "orig_nbformat": 4,
  "vscode": {
   "interpreter": {
    "hash": "a13402f4a871c332669947d2024554c6993164a57fb449b663d1217789f2139c"
   }
  }
 },
 "nbformat": 4,
 "nbformat_minor": 2
}
