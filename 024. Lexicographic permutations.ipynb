{
 "cells": [
  {
   "cell_type": "markdown",
   "metadata": {},
   "source": [
    "# Lexicographic permutations\n",
    "\n",
    "### Problem 24\n",
    "\n",
    "A permutation is an ordered arrangement of objects. For example, 3124 is one possible permutation of the digits 1, 2, 3 and 4. If all of the permutations are listed numerically or alphabetically, we call it lexicographic order. The lexicographic permutations of 0, 1 and 2 are:\n",
    "\n",
    "012   021   102   120   201   210\n",
    "\n",
    "What is the millionth lexicographic permutation of the digits 0, 1, 2, 3, 4, 5, 6, 7, 8 and 9?"
   ]
  },
  {
   "cell_type": "markdown",
   "metadata": {},
   "source": [
    "# notes\n",
    "combinations for different numbers\n",
    "\n",
    "1 -> 1\n",
    "2 -> 2\n",
    "3 -> 6\n",
    "4 -> 24\n",
    "\n",
    "numbers of combinations = n!"
   ]
  },
  {
   "cell_type": "code",
   "execution_count": null,
   "metadata": {},
   "outputs": [
    {
     "ename": "",
     "evalue": "",
     "output_type": "error",
     "traceback": [
      "\u001b[1;31mRunning cells with 'Python 3.10.6 64-bit' requires ipykernel package.\n",
      "\u001b[1;31mRun the following command to install 'ipykernel' into the Python environment. \n",
      "\u001b[1;31mCommand: 'c:/Users/hakan/scoop/apps/python/current/python.exe -m pip install ipykernel -U --user --force-reinstall'"
     ]
    }
   ],
   "source": [
    "#%%timeit\n",
    "import math\n",
    "\n",
    "target = 999999\n",
    "permutations = []\n",
    "\n",
    "while target > 0:\n",
    "    for n in range(10):\n",
    "        if math.factorial(n+1)>target:\n",
    "            permutations.append(n)\n",
    "            target -= math.factorial(n)\n",
    "            break\n",
    "\n",
    "digits = [0, 1, 2, 3, 4, 5, 6, 7, 8, 9]\n",
    "answer = []\n",
    "for i in range(9, -1, -1):\n",
    "    x = permutations.count(i)\n",
    "    answer.append(digits[x])\n",
    "    digits.pop(x)\n",
    "\n",
    "answer_string = \"\"\n",
    "for digit in answer:\n",
    "    answer_string += str(digit)\n",
    "print(int(answer_string))\n",
    "\n",
    "\n",
    "\n"
   ]
  },
  {
   "cell_type": "code",
   "execution_count": null,
   "metadata": {},
   "outputs": [],
   "source": []
  }
 ],
 "metadata": {
  "kernelspec": {
   "display_name": "Python 3.10.6 64-bit",
   "language": "python",
   "name": "python3"
  },
  "language_info": {
   "codemirror_mode": {
    "name": "ipython",
    "version": 3
   },
   "file_extension": ".py",
   "mimetype": "text/x-python",
   "name": "python",
   "nbconvert_exporter": "python",
   "pygments_lexer": "ipython3",
   "version": "3.10.6"
  },
  "orig_nbformat": 4,
  "vscode": {
   "interpreter": {
    "hash": "f01224590d509d45233ae891223970a82e49d2f7c0e19ffaa92eb42560b01bde"
   }
  }
 },
 "nbformat": 4,
 "nbformat_minor": 2
}
