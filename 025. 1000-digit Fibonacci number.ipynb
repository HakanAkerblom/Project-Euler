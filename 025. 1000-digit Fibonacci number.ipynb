{
 "cells": [
  {
   "cell_type": "markdown",
   "metadata": {},
   "source": [
    "# 1000-digit Fibonacci number\n",
    "\n",
    "### Problem 25\n",
    "\n",
    "<p>The Fibonacci sequence is defined by the recurrence relation:</p>\n",
    "<blockquote>F<sub><i>n</i></sub> = F<sub><i>n</i>−1</sub> + F<sub><i>n</i>−2</sub>, where F<sub>1</sub> = 1 and F<sub>2</sub> = 1.</blockquote>\n",
    "<p>Hence the first 12 terms will be:</p>\n",
    "<blockquote>F<sub>1</sub> = 1<br />\n",
    "F<sub>2</sub> = 1<br />\n",
    "F<sub>3</sub> = 2<br />\n",
    "F<sub>4</sub> = 3<br />\n",
    "F<sub>5</sub> = 5<br />\n",
    "F<sub>6</sub> = 8<br />\n",
    "F<sub>7</sub> = 13<br />\n",
    "F<sub>8</sub> = 21<br />\n",
    "F<sub>9</sub> = 34<br />\n",
    "F<sub>10</sub> = 55<br />\n",
    "F<sub>11</sub> = 89<br />\n",
    "F<sub>12</sub> = 144</blockquote>\n",
    "<p>The 12th term, F<sub>12</sub>, is the first term to contain three digits.</p>\n",
    "<p>What is the index of the first term in the Fibonacci sequence to contain 1000 digits?</p>"
   ]
  },
  {
   "cell_type": "code",
   "execution_count": 3,
   "metadata": {},
   "outputs": [
    {
     "name": "stdout",
     "output_type": "stream",
     "text": [
      "4782\n",
      "0.028837203979492188\n"
     ]
    }
   ],
   "source": [
    "#http://radiusofcircle.blogspot.com\n",
    "\n",
    "#time module for execution time\n",
    "import time\n",
    "\n",
    "#time at the start of program\n",
    "start = time.time()\n",
    "\n",
    "#list to store the fibonacci numbers\n",
    "# added first two numbers of the \n",
    "#fibonacci sequence\n",
    "fib = [0,1]\n",
    "\n",
    "#iterator\n",
    "i = 2\n",
    "\n",
    "#An infinite loop, breaks \n",
    "#when the number is 1000 digits long\n",
    "while True:\n",
    "\t#using the function given in question\n",
    "\tfib_new = fib[i-1]+fib[i-2]\n",
    "\t#Appending the new fibonacci to the list\n",
    "\tfib.append(fib_new)\n",
    "\t#condition to check for 1000 digits\n",
    "\tif fib_new>10**999:\n",
    "\t\tprint(i)\n",
    "\t\tbreak\n",
    "\ti = i+1\n",
    "\n",
    "#time at the end of execution\n",
    "end = time.time()\n",
    "\n",
    "#printing the total time for execution\n",
    "print(end-start)"
   ]
  },
  {
   "cell_type": "code",
   "execution_count": 6,
   "metadata": {},
   "outputs": [],
   "source": [
    "\n",
    "fib_list=[1, 1]\n",
    "\n",
    "\n",
    "def fibonacci(n):\n",
    "    i = 2\n",
    "    while True:\n",
    "        fib_new = fib_list[-1]+fib_list[-2]\n",
    "        fib_list.append(fib_new)\n",
    "        if fib_new > n:\n",
    "            print(i)\n",
    "            break\n",
    "        \n",
    "        i+=1\n",
    "\n",
    "fibonacci(10**500)\n"
   ]
  },
  {
   "cell_type": "code",
   "execution_count": 6,
   "metadata": {},
   "outputs": [
    {
     "name": "stdout",
     "output_type": "stream",
     "text": [
      "4782\n"
     ]
    }
   ],
   "source": [
    "\n",
    "fib_list=[1, 1]\n",
    "\n",
    "\n",
    "def fibonacci():\n",
    "    i = 2\n",
    "    while True:\n",
    "        fib_new = fib_list[-1]+fib_list[-2]\n",
    "        fib_list.append(fib_new)\n",
    "        if fib_new > 10**999:\n",
    "            print(i+1)\n",
    "            break\n",
    "        \n",
    "        i+=1\n",
    "\n",
    "fibonacci()\n"
   ]
  },
  {
   "cell_type": "code",
   "execution_count": 7,
   "metadata": {},
   "outputs": [
    {
     "name": "stdout",
     "output_type": "stream",
     "text": [
      "4782\n"
     ]
    }
   ],
   "source": [
    "a = 1\n",
    "b = 1\n",
    "c = 2\n",
    "\n",
    "while len(str(a)) < 1000:\n",
    "    c+=1\n",
    "    a, b = a+b, a\n",
    "    \n",
    "print(c)"
   ]
  }
 ],
 "metadata": {
  "kernelspec": {
   "display_name": "Python 3.9.13 ('Project-Euler-LP3mX_Ov')",
   "language": "python",
   "name": "python3"
  },
  "language_info": {
   "codemirror_mode": {
    "name": "ipython",
    "version": 3
   },
   "file_extension": ".py",
   "mimetype": "text/x-python",
   "name": "python",
   "nbconvert_exporter": "python",
   "pygments_lexer": "ipython3",
   "version": "3.9.13"
  },
  "orig_nbformat": 4,
  "vscode": {
   "interpreter": {
    "hash": "5bde43225c1208913c06d76e5164eaa6c35a71254460d6c422ab908208e2d6c9"
   }
  }
 },
 "nbformat": 4,
 "nbformat_minor": 2
}
