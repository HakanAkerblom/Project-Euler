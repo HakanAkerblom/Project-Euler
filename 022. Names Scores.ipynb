{
 "cells": [
  {
   "cell_type": "code",
   "execution_count": 9,
   "metadata": {},
   "outputs": [
    {
     "name": "stdout",
     "output_type": "stream",
     "text": [
      "871198282\n"
     ]
    }
   ],
   "source": [
    "# %%timeit\n",
    "\n",
    "with open(\"Data/names.txt\") as f:\n",
    "    longstring = f.read()\n",
    "\n",
    "longlist = [a.strip('\"') for a in longstring.split(\",\")]\n",
    "longlist.sort()\n",
    "\n",
    "alphabet = \"ABCDEFGHIJKLMNOPQRSTUVWXYZ\"\n",
    "total_sum = 0\n",
    "for i, name in enumerate(longlist, 1):\n",
    "    name_sum = 0\n",
    "    for letter in name:\n",
    "        for j, character in enumerate(alphabet, 1):\n",
    "            if character == letter:\n",
    "                name_sum += j\n",
    "                break\n",
    "    total_sum += (name_sum * i)\n",
    "   \n",
    "print(total_sum)\n",
    "\n",
    "# I thought this would be SIGNIFICANTLY slower than 20 ms. Nice...\n",
    "        \n",
    "\n",
    "\n",
    "\n",
    "\n"
   ]
  },
  {
   "cell_type": "code",
   "execution_count": null,
   "metadata": {},
   "outputs": [],
   "source": []
  }
 ],
 "metadata": {
  "kernelspec": {
   "display_name": "Python 3.9.13 ('Python-Hakan-Akerblom-fWPs1u-F')",
   "language": "python",
   "name": "python3"
  },
  "language_info": {
   "codemirror_mode": {
    "name": "ipython",
    "version": 3
   },
   "file_extension": ".py",
   "mimetype": "text/x-python",
   "name": "python",
   "nbconvert_exporter": "python",
   "pygments_lexer": "ipython3",
   "version": "3.9.13"
  },
  "orig_nbformat": 4,
  "vscode": {
   "interpreter": {
    "hash": "9b8982fe4dee5ea216abe18f309efc76049b2ef374ce38cf34875b7e1b48bd42"
   }
  }
 },
 "nbformat": 4,
 "nbformat_minor": 2
}
